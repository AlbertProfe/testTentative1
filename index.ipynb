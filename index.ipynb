{
  "cells": [
    {
      "cell_type": "raw",
      "metadata": {},
      "source": [
        "---\n",
        "title: \"testTentative1\"\n",
        "---"
      ],
      "id": "a801c52f"
    },
    {
      "cell_type": "markdown",
      "metadata": {},
      "source": [
        "This is a Quarto website.\n",
        "\n",
        "To learn more about Quarto websites visit <https://quarto.org/docs/websites>.\n",
        "\n",
        "\n",
        "\n",
        "# Hello class\n",
        "\n",
        "## this is  cool \n",
        "\n",
        "\n",
        "```{html}\n",
        "<h1>   </h1>\n",
        "\n",
        "```"
      ],
      "id": "b33aff73"
    }
  ],
  "metadata": {
    "kernelspec": {
      "display_name": "Python 3",
      "language": "python",
      "name": "python3"
    }
  },
  "nbformat": 4,
  "nbformat_minor": 5
}